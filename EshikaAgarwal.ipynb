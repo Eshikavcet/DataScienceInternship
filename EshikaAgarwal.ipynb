{
  "nbformat": 4,
  "nbformat_minor": 0,
  "metadata": {
    "colab": {
      "provenance": [],
      "authorship_tag": "ABX9TyOu1G5a8Uf3GLRoz2nwoRcW",
      "include_colab_link": true
    },
    "kernelspec": {
      "name": "python3",
      "display_name": "Python 3"
    },
    "language_info": {
      "name": "python"
    }
  },
  "cells": [
    {
      "cell_type": "markdown",
      "metadata": {
        "id": "view-in-github",
        "colab_type": "text"
      },
      "source": [
        "<a href=\"https://colab.research.google.com/github/Eshikavcet/Python/blob/main/EshikaAgarwal.ipynb\" target=\"_parent\"><img src=\"https://colab.research.google.com/assets/colab-badge.svg\" alt=\"Open In Colab\"/></a>"
      ]
    },
    {
      "cell_type": "code",
      "execution_count": null,
      "metadata": {
        "id": "BePPhbnM_5iH",
        "colab": {
          "base_uri": "https://localhost:8080/"
        },
        "outputId": "4523a239-a38d-4cbf-c486-ececbb395e8b"
      },
      "outputs": [
        {
          "output_type": "stream",
          "name": "stdout",
          "text": [
            "Hello world\n"
          ]
        }
      ],
      "source": [
        "print(\"Hello world\")"
      ]
    },
    {
      "cell_type": "code",
      "source": [
        "x=5\n",
        "m=6\n",
        "y=\"9\"\n",
        "z=\"5\"\n",
        "print(type(x))\n",
        "print(type(y))\n",
        "print(x+m)\n",
        "print(y+z)\n",
        "print(len(y))\n",
        "print(z[0])"
      ],
      "metadata": {
        "colab": {
          "base_uri": "https://localhost:8080/"
        },
        "id": "7awkgl-WBAtC",
        "outputId": "0c2a9116-b61f-4723-d580-180953fb0064"
      },
      "execution_count": null,
      "outputs": [
        {
          "output_type": "stream",
          "name": "stdout",
          "text": [
            "<class 'int'>\n",
            "<class 'str'>\n",
            "11\n",
            "95\n",
            "1\n",
            "5\n"
          ]
        }
      ]
    },
    {
      "cell_type": "code",
      "source": [
        "#typecasting\n",
        "a=int(z)\n",
        "print(a+m)"
      ],
      "metadata": {
        "colab": {
          "base_uri": "https://localhost:8080/"
        },
        "id": "n5jNwx8vBbnJ",
        "outputId": "ef4988ce-e3e0-414d-b0bc-9907d6349b97"
      },
      "execution_count": null,
      "outputs": [
        {
          "output_type": "stream",
          "name": "stdout",
          "text": [
            "11\n"
          ]
        }
      ]
    },
    {
      "cell_type": "code",
      "source": [
        "#list\n",
        "l1=['hi',1,7,\"list\",6.7,9.5,[3,89,\"hello\"]]\n",
        "l2=l1[6][2]\n",
        "print(l2)\n",
        "length=len(l1)\n",
        "print(length)"
      ],
      "metadata": {
        "colab": {
          "base_uri": "https://localhost:8080/"
        },
        "id": "qPHtn_vjCKvK",
        "outputId": "822e6e8e-4f3e-4a8e-b270-640ba1ac8271"
      },
      "execution_count": null,
      "outputs": [
        {
          "output_type": "stream",
          "name": "stdout",
          "text": [
            "hello\n",
            "7\n"
          ]
        }
      ]
    },
    {
      "cell_type": "code",
      "source": [
        "nums=[]\n",
        "nums.append(21)\n",
        "nums.append(40.5)\n",
        "nums.append(\"String\")\n",
        "print(nums)"
      ],
      "metadata": {
        "colab": {
          "base_uri": "https://localhost:8080/"
        },
        "id": "3mBy0OkyFCNv",
        "outputId": "eb30f03f-3e8f-4236-e4ce-2cd2e421d595"
      },
      "execution_count": null,
      "outputs": [
        {
          "output_type": "stream",
          "name": "stdout",
          "text": [
            "[21, 40.5, 'String']\n"
          ]
        }
      ]
    },
    {
      "cell_type": "code",
      "source": [
        "#tuple\n",
        "t1=(1,2,3,4,5,6,7,8)\n",
        "print(t1)"
      ],
      "metadata": {
        "colab": {
          "base_uri": "https://localhost:8080/"
        },
        "id": "AG-tYSliFoSf",
        "outputId": "fc0b8a1a-8939-4c75-ca85-5d3721f636ca"
      },
      "execution_count": null,
      "outputs": [
        {
          "output_type": "stream",
          "name": "stdout",
          "text": [
            "(1, 2, 3, 4, 5, 6, 7, 8)\n"
          ]
        }
      ]
    },
    {
      "cell_type": "code",
      "source": [
        "#dictionary\n",
        "d1={\"Name\":\"Esh\",\"Age\":\"18\",\"Proff\":\"Student\"}\n",
        "print(d1)\n",
        "print(type(d1))\n",
        "print(d1.keys())\n",
        "print(d1.values())\n",
        "print(d1.items())\n",
        "print(d1[\"Name\"])"
      ],
      "metadata": {
        "colab": {
          "base_uri": "https://localhost:8080/"
        },
        "id": "rotk5-SfFxpO",
        "outputId": "5bda4909-d569-4d7e-e0af-5991ed6152ca"
      },
      "execution_count": null,
      "outputs": [
        {
          "output_type": "stream",
          "name": "stdout",
          "text": [
            "{'Name': 'Esh', 'Age': '18', 'Proff': 'Student'}\n",
            "<class 'dict'>\n",
            "dict_keys(['Name', 'Age', 'Proff'])\n",
            "dict_values(['Esh', '18', 'Student'])\n",
            "dict_items([('Name', 'Esh'), ('Age', '18'), ('Proff', 'Student')])\n",
            "Esh\n"
          ]
        }
      ]
    },
    {
      "cell_type": "code",
      "source": [
        "num1=int(input(\"Enter num1\"))\n",
        "num2=int(input(\"Enter num2\"))\n",
        "num3=num1+num2\n",
        "print(\"Product:\",num3)\n",
        "\n",
        "num1=int(input(\"Enter a number:\"))\n",
        "if num1>12:\n",
        "  print(\"Number is greater than 12\")\n",
        "else:\n",
        "  print(\"Number is smaller than 12\")\n"
      ],
      "metadata": {
        "colab": {
          "base_uri": "https://localhost:8080/"
        },
        "id": "Dvx376wzHlWP",
        "outputId": "c00c0fc7-fdfc-4de3-cd9e-c7ead711f938"
      },
      "execution_count": 1,
      "outputs": [
        {
          "output_type": "stream",
          "name": "stdout",
          "text": [
            "Enter num15\n",
            "Enter num23\n",
            "Product: 8\n",
            "Enter a number:15\n",
            "Number is greater than 12\n"
          ]
        }
      ]
    }
  ]
}