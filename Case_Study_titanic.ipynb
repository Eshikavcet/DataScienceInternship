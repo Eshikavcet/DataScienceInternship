{
  "nbformat": 4,
  "nbformat_minor": 0,
  "metadata": {
    "colab": {
      "provenance": []
    },
    "kernelspec": {
      "name": "python3",
      "display_name": "Python 3"
    },
    "language_info": {
      "name": "python"
    }
  },
  "cells": [
    {
      "cell_type": "code",
      "execution_count": 4,
      "metadata": {
        "colab": {
          "base_uri": "https://localhost:8080/",
          "height": 866
        },
        "id": "TucjQsAMIymL",
        "outputId": "d1b0c765-ecc2-47dc-9753-b2411aaa130c"
      },
      "outputs": [
        {
          "output_type": "stream",
          "name": "stdout",
          "text": [
            "PassengerId      0\n",
            "Survived         0\n",
            "Pclass           0\n",
            "Name             0\n",
            "Sex              0\n",
            "Age              0\n",
            "SibSp            0\n",
            "Parch            0\n",
            "Ticket           0\n",
            "Fare             1\n",
            "Cabin          327\n",
            "Embarked         0\n",
            "dtype: int64\n",
            "PassengerId    0\n",
            "Survived       0\n",
            "Sex            0\n",
            "Age            0\n",
            "Embarked       0\n",
            "dtype: int64\n"
          ]
        },
        {
          "output_type": "display_data",
          "data": {
            "text/plain": [
              "<Figure size 640x480 with 1 Axes>"
            ],
            "image/png": "[encoded data removed]"
          },
          "metadata": {}
        },
        {
          "output_type": "stream",
          "name": "stdout",
          "text": [
            "Survived\n",
            "0    266\n",
            "1    152\n",
            "Name: count, dtype: int64\n",
            "0.5476190476190477\n"
          ]
        }
      ],
      "source": [
        "#importing the libraries\n",
        "import pandas as pd\n",
        "import numpy as np\n",
        "import seaborn as sns\n",
        "import matplotlib.pyplot as plt\n",
        "\n",
        "#importing the datasets\n",
        "r = pd.read_csv('tested.csv')\n",
        "\n",
        "df = pd.DataFrame(r)\n",
        "\n",
        "#checking for missing values\n",
        "#print(df.isnull().sum())\n",
        "\n",
        "#filling the missing values\n",
        "df['Age'].fillna(df['Age'].mean(), inplace=True)\n",
        "print(df.isnull().sum())\n",
        "\n",
        "#feature selection\n",
        "#as cabin has most null values we will drop this column\n",
        "df=df.drop('Cabin',axis=1)\n",
        "\n",
        "#dropping unrequired attributes\n",
        "df=df.drop(['Name','Ticket','Pclass','Fare','SibSp','Parch'],axis=1)\n",
        "print(df.isnull().sum())\n",
        "\n",
        "#visualisation\n",
        "plt.scatter(df['Age'], df['Survived'])\n",
        "plt.xlabel('Age')\n",
        "plt.ylabel('Survived')\n",
        "plt.show()\n",
        "\n",
        "#Logistic Regression algorithm is required\n",
        "\n",
        "\n",
        "#conversion and replacing categorical to numerical\n",
        "df['Survived'] = pd.to_numeric(df['Survived'])\n",
        "df['Age'] = pd.to_numeric(df['Age'])\n",
        "df['Sex'].replace(['male', 'female'],[0, 1], inplace=True)\n",
        "df['Embarked'].replace(['S', 'C', 'Q'],[1, 2, 3], inplace=True)\n",
        "df['Sex'] = pd.to_numeric(df['Sex'])\n",
        "df['Embarked'] = pd.to_numeric(df['Embarked'])\n",
        "\n",
        "print(df['Survived'].value_counts())\n",
        "\n",
        "\n",
        "#Defining x and y\n",
        "\n",
        "from sklearn.model_selection import train_test_split\n",
        "\n",
        "X=df.drop('PassengerId', axis=1)\n",
        "X = X.drop('Survived', axis=1)\n",
        "Y = df['Survived']\n",
        "\n",
        "#Logistic Regression\n",
        "from sklearn.linear_model import LogisticRegression\n",
        "from sklearn.decomposition import PCA\n",
        "from sklearn.metrics import accuracy_score\n",
        "\n",
        "model = LogisticRegression()\n",
        "pca = PCA(n_components=2)\n",
        "\n",
        "pca.fit(X)\n",
        "\n",
        "X = pca.transform(X)\n",
        "\n",
        "\n",
        "X_train, X_test, Y_train, Y_test = train_test_split(X, Y, test_size=0.3, random_state = 0)\n",
        "\n",
        "\n",
        "model.fit(X_train, Y_train)\n",
        "\n",
        "#predicting the model\n",
        "Y_pred = model.predict(X_test)\n",
        "\n",
        "\n",
        "#checking accuracy\n",
        "accuracy = accuracy_score(Y_test, Y_pred)\n",
        "print(accuracy)\n"
      ]
    },
    {
      "cell_type": "code",
      "source": [
        "#Decision Tree\n",
        "\n",
        "from sklearn import tree\n",
        "from sklearn.metrics import accuracy_score\n",
        "from sklearn.model_selection import train_test_split\n",
        "\n",
        "dt=tree.DecisionTreeClassifier()\n",
        "\n",
        "X_train,X_test,y_train,y_test=train_test_split(X,Y,random_state=0,test_size=0.3)\n",
        "\n",
        "train=dt.fit(X_train,y_train)\n",
        "\n",
        "y_pred=dt.predict(X_test)\n",
        "\n",
        "print(accuracy_score(y_test,y_pred))\n"
      ],
      "metadata": {
        "colab": {
          "base_uri": "https://localhost:8080/"
        },
        "id": "YeZKIPK49yrb",
        "outputId": "68d62da4-3f9f-4872-90f5-71ea212cc8a1"
      },
      "execution_count": 5,
      "outputs": [
        {
          "output_type": "stream",
          "name": "stdout",
          "text": [
            "0.9761904761904762\n"
          ]
        }
      ]
    },
    {
      "cell_type": "code",
      "source": [
        "#Random Forest\n",
        "\n",
        "from sklearn.model_selection import train_test_split\n",
        "from sklearn.metrics import accuracy_score\n",
        "from sklearn.ensemble import RandomForestClassifier\n",
        "\n",
        "rf=RandomForestClassifier()\n",
        "\n",
        "X_train,X_test,y_train,y_test=train_test_split(X,Y,random_state=0,test_size=0.3)\n",
        "\n",
        "train=rf.fit(X_train,y_train)\n",
        "\n",
        "y_pred=rf.predict(X_test)\n",
        "\n",
        "print(accuracy_score(y_test,y_pred))\n"
      ],
      "metadata": {
        "colab": {
          "base_uri": "https://localhost:8080/"
        },
        "id": "7mfKPEvm98F9",
        "outputId": "71c2c1df-dd2d-4c38-c908-35b37ce4c70d"
      },
      "execution_count": 6,
      "outputs": [
        {
          "output_type": "stream",
          "name": "stdout",
          "text": [
            "0.9841269841269841\n"
          ]
        }
      ]
    }
  ]
}